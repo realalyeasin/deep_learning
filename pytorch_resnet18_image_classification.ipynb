{
  "nbformat": 4,
  "nbformat_minor": 0,
  "metadata": {
    "colab": {
      "provenance": [],
      "mount_file_id": "1yEg-iribFnTFvkgxv22S6hoJ4dgqiQhi",
      "authorship_tag": "ABX9TyMSf4EYwUfs3iMeuTtLbQsq",
      "include_colab_link": true
    },
    "kernelspec": {
      "name": "python3",
      "display_name": "Python 3"
    },
    "language_info": {
      "name": "python"
    }
  },
  "cells": [
    {
      "cell_type": "markdown",
      "metadata": {
        "id": "view-in-github",
        "colab_type": "text"
      },
      "source": [
        "<a href=\"https://colab.research.google.com/github/realalyeasin/deep_learning/blob/main/pytorch_resnet18_image_classification.ipynb\" target=\"_parent\"><img src=\"https://colab.research.google.com/assets/colab-badge.svg\" alt=\"Open In Colab\"/></a>"
      ]
    },
    {
      "cell_type": "code",
      "execution_count": 29,
      "metadata": {
        "id": "fuOqhu1ZqEiD"
      },
      "outputs": [],
      "source": [
        "import torch\n",
        "import torch.nn as nn\n",
        "import torch.optim as optim\n",
        "from torchvision import datasets, models, transforms\n",
        "import os"
      ]
    },
    {
      "cell_type": "code",
      "source": [
        "data_transforms = {\n",
        "    'train': transforms.Compose([\n",
        "        transforms.RandomResizedCrop(224),\n",
        "        transforms.RandomHorizontalFlip(),\n",
        "        transforms.ToTensor(),\n",
        "        transforms.Normalize([0.485, 0.456, 0.406], [0.229, 0.224, 0.225])\n",
        "    ]),\n",
        "    'valid': transforms.Compose([\n",
        "        transforms.Resize(256),\n",
        "        transforms.CenterCrop(224),\n",
        "        transforms.ToTensor(),\n",
        "        transforms.Normalize([0.485, 0.456, 0.406], [0.229, 0.224, 0.225])\n",
        "    ]),\n",
        "}"
      ],
      "metadata": {
        "id": "rrgv5GFd1T4h"
      },
      "execution_count": 40,
      "outputs": []
    },
    {
      "cell_type": "code",
      "source": [
        "data_dir = '/content/drive/MyDrive/Database/FlowerDataset/FlowerDataset'\n",
        "image_datasets = {x: datasets.ImageFolder(os.path.join(data_dir, x), data_transforms[x]) for x in ['train', 'valid']}"
      ],
      "metadata": {
        "id": "RUQLreLD3fxs"
      },
      "execution_count": 41,
      "outputs": []
    },
    {
      "cell_type": "code",
      "source": [
        "data_loaders = {x: torch.utils.data.DataLoader(image_datasets[x], batch_size=4, shuffle=True, num_workers=4) for x in ['train', 'valid']}"
      ],
      "metadata": {
        "colab": {
          "base_uri": "https://localhost:8080/"
        },
        "id": "or81Iw61AzKj",
        "outputId": "f27f91e4-93f8-4c90-efdb-94c24887de09"
      },
      "execution_count": 42,
      "outputs": [
        {
          "output_type": "stream",
          "name": "stderr",
          "text": [
            "/usr/local/lib/python3.10/dist-packages/torch/utils/data/dataloader.py:557: UserWarning: This DataLoader will create 4 worker processes in total. Our suggested max number of worker in current system is 2, which is smaller than what this DataLoader is going to create. Please be aware that excessive worker creation might get DataLoader running slow or even freeze, lower the worker number to avoid potential slowness/freeze if necessary.\n",
            "  warnings.warn(_create_warning_msg(\n"
          ]
        }
      ]
    },
    {
      "cell_type": "code",
      "source": [
        "dataset_sizes = {x: len(image_datasets[x]) for x in ['train', 'valid']}\n",
        "class_names = image_datasets['train'].classes\n",
        "\n",
        "print(dataset_sizes)\n",
        "print(class_names)"
      ],
      "metadata": {
        "colab": {
          "base_uri": "https://localhost:8080/"
        },
        "id": "v2Zgv5yRCiJe",
        "outputId": "d00a3114-8adf-456b-9034-e1f96714b359"
      },
      "execution_count": 44,
      "outputs": [
        {
          "output_type": "stream",
          "name": "stdout",
          "text": [
            "{'train': 1275, 'valid': 546}\n",
            "['daisy', 'dandelion']\n"
          ]
        }
      ]
    },
    {
      "cell_type": "code",
      "source": [
        "model = models.resnet18(pretrained= True)"
      ],
      "metadata": {
        "id": "La9Hvx1ZDbjA"
      },
      "execution_count": 45,
      "outputs": []
    },
    {
      "cell_type": "code",
      "source": [
        "for name, param in model.named_parameters():\n",
        "  if 'fc' in name:\n",
        "    param.requires_grad = True\n",
        "  else:\n",
        "    param.requires_grad = False"
      ],
      "metadata": {
        "id": "m8llf7UXECGi"
      },
      "execution_count": 46,
      "outputs": []
    },
    {
      "cell_type": "code",
      "source": [
        "criteria = nn.CrossEntropyLoss()\n",
        "optimizer = optim.SGD(model.parameters(), lr=.001, momentum=.9)\n",
        "device = torch.device('cuda:0' if torch.cuda.is_available() else 'cpu')"
      ],
      "metadata": {
        "id": "zbranXrYFrpu"
      },
      "execution_count": 47,
      "outputs": []
    },
    {
      "cell_type": "code",
      "source": [
        "num_epochs = 10\n",
        "for epoch in range(num_epochs):\n",
        "  print(f'Epoch = {epoch}')\n",
        "  for phase in ['train', 'valid']:\n",
        "    if phase == 'train':\n",
        "        model.train()\n",
        "    else:\n",
        "        model.eval()\n",
        "\n",
        "    running_loss = 0.0\n",
        "    running_corrects = 0\n",
        "\n",
        "    for inputs, labels in data_loaders[phase]:\n",
        "        inputs = inputs.to(device)\n",
        "        labels = labels.to(device)\n",
        "\n",
        "        optimizer.zero_grad()\n",
        "\n",
        "        with torch.set_grad_enabled(phase == 'train'):\n",
        "            outputs = model(inputs)\n",
        "            _, preds = torch.max(outputs, 1)\n",
        "            loss = criteria(outputs, labels)\n",
        "\n",
        "            if phase == 'train':\n",
        "                loss.backward()\n",
        "                optimizer.step()\n",
        "\n",
        "        running_loss += loss.item() * inputs.size(0)\n",
        "        running_corrects += torch.sum(preds == labels.data)\n",
        "\n",
        "    epoch_loss = running_loss / dataset_sizes[phase]\n",
        "    epoch_acc = running_corrects.double() / dataset_sizes[phase]\n",
        "\n",
        "    print(f'{phase} Loss: {epoch_loss:.4f} Acc: {epoch_acc:.4f}')\n",
        "\n",
        "\n",
        "  print('----------------------------------------------')\n",
        "print(\"Finished!\")"
      ],
      "metadata": {
        "colab": {
          "base_uri": "https://localhost:8080/"
        },
        "id": "-5StB2x6GtPB",
        "outputId": "83f086b5-499b-4698-96b1-0de1c685b081"
      },
      "execution_count": 51,
      "outputs": [
        {
          "output_type": "stream",
          "name": "stdout",
          "text": [
            "Epoch = 0\n",
            "train Loss: 0.4673 Acc: 0.8282\n",
            "valid Loss: 0.2972 Acc: 0.8901\n",
            "----------------------------------------------\n",
            "Epoch = 1\n",
            "train Loss: 0.5568 Acc: 0.7929\n",
            "valid Loss: 0.2041 Acc: 0.9139\n",
            "----------------------------------------------\n",
            "Epoch = 2\n",
            "train Loss: 0.4373 Acc: 0.8322\n",
            "valid Loss: 0.2030 Acc: 0.9176\n",
            "----------------------------------------------\n",
            "Epoch = 3\n",
            "train Loss: 0.4298 Acc: 0.8188\n",
            "valid Loss: 0.1744 Acc: 0.9231\n",
            "----------------------------------------------\n",
            "Epoch = 4\n",
            "train Loss: 0.4021 Acc: 0.8376\n",
            "valid Loss: 0.1894 Acc: 0.9194\n",
            "----------------------------------------------\n",
            "Epoch = 5\n",
            "train Loss: 0.4746 Acc: 0.8055\n",
            "valid Loss: 0.1614 Acc: 0.9359\n",
            "----------------------------------------------\n",
            "Epoch = 6\n",
            "train Loss: 0.4536 Acc: 0.8133\n",
            "valid Loss: 0.2816 Acc: 0.8883\n",
            "----------------------------------------------\n",
            "Epoch = 7\n",
            "train Loss: 0.4691 Acc: 0.8306\n",
            "valid Loss: 0.1501 Acc: 0.9341\n",
            "----------------------------------------------\n",
            "Epoch = 8\n",
            "train Loss: 0.5096 Acc: 0.8118\n",
            "valid Loss: 0.1713 Acc: 0.9286\n",
            "----------------------------------------------\n",
            "Epoch = 9\n",
            "train Loss: 0.5425 Acc: 0.7929\n",
            "valid Loss: 0.1633 Acc: 0.9322\n",
            "----------------------------------------------\n",
            "Training complete!\n"
          ]
        }
      ]
    }
  ]
}